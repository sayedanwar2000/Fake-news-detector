{
  "cells": [
    {
      "cell_type": "markdown",
      "metadata": {
        "id": "view-in-github",
        "colab_type": "text"
      },
      "source": [
        "<a href=\"https://colab.research.google.com/github/sayedanwar2000/Fake-news-detector/blob/main/Fake_News_Detection.ipynb\" target=\"_parent\"><img src=\"https://colab.research.google.com/assets/colab-badge.svg\" alt=\"Open In Colab\"/></a>"
      ]
    },
    {
      "cell_type": "code",
      "execution_count": 1,
      "metadata": {
        "id": "WuEOZWS02X6M"
      },
      "outputs": [],
      "source": [
        "import numpy as np\n",
        "import pandas as pd\n",
        "import re\n",
        "import string\n",
        "import itertools\n",
        "import tensorflow as tf\n",
        "import seaborn as sns\n",
        "from sklearn.model_selection import train_test_split\n",
        "from sklearn.feature_extraction.text import TfidfVectorizer\n",
        "from sklearn.linear_model import PassiveAggressiveClassifier\n",
        "from sklearn.linear_model import LogisticRegression\n",
        "from sklearn.tree import DecisionTreeClassifier\n",
        "from sklearn.ensemble import GradientBoostingClassifier\n",
        "from sklearn.ensemble import RandomForestClassifier\n",
        "from tensorflow.keras.preprocessing.text import Tokenizer\n",
        "from sklearn.metrics import accuracy_score\n",
        "from sklearn.model_selection import train_test_split\n",
        "from sklearn.metrics import precision_score, recall_score\n",
        "from sklearn.metrics import classification_report\n",
        "from sklearn.metrics import accuracy_score, confusion_matrix "
      ]
    },
    {
      "cell_type": "markdown",
      "metadata": {
        "id": "ceJv6kTGCDhd"
      },
      "source": [
        "# load and prepossessing Data for Machine Learning"
      ]
    },
    {
      "cell_type": "markdown",
      "metadata": {
        "id": "wRPz4Qgj-l9F"
      },
      "source": [
        "**Read the data**"
      ]
    },
    {
      "cell_type": "code",
      "execution_count": 2,
      "metadata": {
        "id": "OVCeEsQb2gmL"
      },
      "outputs": [],
      "source": [
        "data_news=pd.read_csv('/content/news.csv')\n",
        "data_fake = pd.read_csv(\"/content/Fake.csv\")\n",
        "data_real = pd.read_csv(\"/content/True.csv\")"
      ]
    },
    {
      "cell_type": "markdown",
      "metadata": {
        "id": "GwiuGsLJ-1PS"
      },
      "source": [
        "**addition label to data_fake & data_real**"
      ]
    },
    {
      "cell_type": "code",
      "execution_count": 3,
      "metadata": {
        "id": "QXzXJgUFmcXj"
      },
      "outputs": [],
      "source": [
        "data_fake[\"label\"] = 'FAKE'\n",
        "data_real[\"label\"] = 'REAL'"
      ]
    },
    {
      "cell_type": "code",
      "source": [
        "data_fake.shape"
      ],
      "metadata": {
        "colab": {
          "base_uri": "https://localhost:8080/"
        },
        "id": "yFhYqB1ib5Dm",
        "outputId": "cb9e36cd-ea5a-4258-b4c7-1fc005f12260"
      },
      "execution_count": 4,
      "outputs": [
        {
          "output_type": "execute_result",
          "data": {
            "text/plain": [
              "(23481, 5)"
            ]
          },
          "metadata": {},
          "execution_count": 4
        }
      ]
    },
    {
      "cell_type": "markdown",
      "metadata": {
        "id": "l7pnr3q89cGg"
      },
      "source": [
        "**Removing last 10 rows for manual testing**"
      ]
    },
    {
      "cell_type": "code",
      "execution_count": 5,
      "metadata": {
        "id": "fuzYfM5qm7ZB"
      },
      "outputs": [],
      "source": [
        "df_fake_manual_testing = data_fake.tail(10)\n",
        "for i in range(23480,23470,-1):\n",
        "    data_fake.drop([i], axis = 0, inplace = True)\n",
        "    \n",
        "    \n",
        "df_real_manual_testing = data_real.tail(10)\n",
        "for i in range(21416,21406,-1):\n",
        "    data_real.drop([i], axis = 0, inplace = True)"
      ]
    },
    {
      "cell_type": "markdown",
      "metadata": {
        "id": "Khy7h8iv_sBA"
      },
      "source": [
        "**addition label to df_fake_manual_testing & df_real_manual_testing**"
      ]
    },
    {
      "cell_type": "code",
      "execution_count": 6,
      "metadata": {
        "colab": {
          "base_uri": "https://localhost:8080/"
        },
        "id": "tC_SQ6EDnTMO",
        "outputId": "7b7e8516-94e0-46b1-dab2-96e4d38369d9"
      },
      "outputs": [
        {
          "output_type": "stream",
          "name": "stderr",
          "text": [
            "/usr/local/lib/python3.7/dist-packages/ipykernel_launcher.py:1: SettingWithCopyWarning: \n",
            "A value is trying to be set on a copy of a slice from a DataFrame.\n",
            "Try using .loc[row_indexer,col_indexer] = value instead\n",
            "\n",
            "See the caveats in the documentation: https://pandas.pydata.org/pandas-docs/stable/user_guide/indexing.html#returning-a-view-versus-a-copy\n",
            "  \"\"\"Entry point for launching an IPython kernel.\n",
            "/usr/local/lib/python3.7/dist-packages/ipykernel_launcher.py:2: SettingWithCopyWarning: \n",
            "A value is trying to be set on a copy of a slice from a DataFrame.\n",
            "Try using .loc[row_indexer,col_indexer] = value instead\n",
            "\n",
            "See the caveats in the documentation: https://pandas.pydata.org/pandas-docs/stable/user_guide/indexing.html#returning-a-view-versus-a-copy\n",
            "  \n"
          ]
        }
      ],
      "source": [
        "df_fake_manual_testing[\"label\"] = 'FAKE'\n",
        "df_real_manual_testing[\"label\"] = 'REAL'"
      ]
    },
    {
      "cell_type": "markdown",
      "metadata": {
        "id": "ODZEe_7QAHLA"
      },
      "source": [
        "**merging df_fake_manual_testing and df_real_manual_testing**"
      ]
    },
    {
      "cell_type": "code",
      "execution_count": 7,
      "metadata": {
        "id": "JsceSMzWobv0"
      },
      "outputs": [],
      "source": [
        "df_manual_testing = pd.concat([df_fake_manual_testing,df_real_manual_testing], axis = 0)\n",
        "df_manual_testing.to_csv(\"manual_testing.csv\")"
      ]
    },
    {
      "cell_type": "markdown",
      "metadata": {
        "id": "LOAplca9AS5g"
      },
      "source": [
        "**merging data_fake and data_real**"
      ]
    },
    {
      "cell_type": "code",
      "execution_count": 8,
      "metadata": {
        "id": "EC_gnI6boouG"
      },
      "outputs": [],
      "source": [
        "data_merge = pd.concat([data_fake, data_real], axis =0 )"
      ]
    },
    {
      "cell_type": "markdown",
      "metadata": {
        "id": "d5_LDFraAiQJ"
      },
      "source": [
        "**Watching classes**"
      ]
    },
    {
      "cell_type": "code",
      "execution_count": 9,
      "metadata": {
        "colab": {
          "base_uri": "https://localhost:8080/"
        },
        "id": "tXye7p-mrAO4",
        "outputId": "51c08e57-c48e-4643-e00a-fca2ad06237f"
      },
      "outputs": [
        {
          "output_type": "execute_result",
          "data": {
            "text/plain": [
              "Index(['title', 'text', 'subject', 'date', 'label'], dtype='object')"
            ]
          },
          "metadata": {},
          "execution_count": 9
        }
      ],
      "source": [
        "data_merge.columns"
      ]
    },
    {
      "cell_type": "code",
      "execution_count": 10,
      "metadata": {
        "id": "pdSjyrOo84aT",
        "colab": {
          "base_uri": "https://localhost:8080/"
        },
        "outputId": "64fbe670-54d4-432f-caf8-a28f2c11056b"
      },
      "outputs": [
        {
          "output_type": "execute_result",
          "data": {
            "text/plain": [
              "Index(['Unnamed: 0', 'title', 'text', 'label'], dtype='object')"
            ]
          },
          "metadata": {},
          "execution_count": 10
        }
      ],
      "source": [
        "data_news.columns"
      ]
    },
    {
      "cell_type": "markdown",
      "metadata": {
        "id": "3qs5YAFsAkoa"
      },
      "source": [
        "**Delete classes is not important**"
      ]
    },
    {
      "cell_type": "code",
      "execution_count": 11,
      "metadata": {
        "id": "rfpLjCSppU4W"
      },
      "outputs": [],
      "source": [
        "data_merge = data_merge.drop([\"title\", \"subject\",\"date\"], axis = 1)\n",
        "data_news = data_news.drop([\"Unnamed: 0\", \"title\",], axis = 1)"
      ]
    },
    {
      "cell_type": "markdown",
      "metadata": {
        "id": "aAyo-N8j-KSY"
      },
      "source": [
        "**Watching classes**"
      ]
    },
    {
      "cell_type": "code",
      "execution_count": 12,
      "metadata": {
        "id": "_FuqwreV86iL",
        "colab": {
          "base_uri": "https://localhost:8080/"
        },
        "outputId": "bade8f8f-6afd-47cb-a61f-7224f136ae11"
      },
      "outputs": [
        {
          "output_type": "execute_result",
          "data": {
            "text/plain": [
              "Index(['text', 'label'], dtype='object')"
            ]
          },
          "metadata": {},
          "execution_count": 12
        }
      ],
      "source": [
        "data_merge.columns"
      ]
    },
    {
      "cell_type": "code",
      "execution_count": 13,
      "metadata": {
        "colab": {
          "base_uri": "https://localhost:8080/"
        },
        "id": "QgczEL-4rZPb",
        "outputId": "3adf8a54-3a7a-4cdb-ef0f-b586bc3fffe2"
      },
      "outputs": [
        {
          "output_type": "execute_result",
          "data": {
            "text/plain": [
              "Index(['text', 'label'], dtype='object')"
            ]
          },
          "metadata": {},
          "execution_count": 13
        }
      ],
      "source": [
        "data_news.columns"
      ]
    },
    {
      "cell_type": "markdown",
      "metadata": {
        "id": "YH1p9cau-VeI"
      },
      "source": [
        "**merging data_merge and data_news**"
      ]
    },
    {
      "cell_type": "code",
      "execution_count": 14,
      "metadata": {
        "id": "krCLPSiGqo5A"
      },
      "outputs": [],
      "source": [
        "data= pd.concat([data_merge, data_news], axis =0 )"
      ]
    },
    {
      "cell_type": "markdown",
      "metadata": {
        "id": "A0eP-mOPBgAz"
      },
      "source": [
        "**Split X & Y**"
      ]
    },
    {
      "cell_type": "code",
      "execution_count": 15,
      "metadata": {
        "id": "AhhcrqKO3gj2"
      },
      "outputs": [],
      "source": [
        "X = data.text\n",
        "y = data.label"
      ]
    },
    {
      "cell_type": "markdown",
      "metadata": {
        "id": "h1sKyOpb9nAg"
      },
      "source": [
        "**Creating a function to process the texts**"
      ]
    },
    {
      "cell_type": "code",
      "execution_count": 16,
      "metadata": {
        "id": "fQUFnsXyHbjL"
      },
      "outputs": [],
      "source": [
        "def wordopt(text):\n",
        "    text = text.lower()\n",
        "    text = re.sub('\\[.*?\\]', '', text)\n",
        "    text = re.sub(\"\\\\W\",\" \",text) \n",
        "    text = re.sub('https?://\\S+|www\\.\\S+', '', text)\n",
        "    text = re.sub('<.*?>+', '', text)\n",
        "    text = re.sub('[%s]' % re.escape(string.punctuation), '', text)\n",
        "    text = re.sub('\\n', '', text)\n",
        "    text = re.sub('\\w*\\d\\w*', '', text)    \n",
        "    return text"
      ]
    },
    {
      "cell_type": "markdown",
      "metadata": {
        "id": "jXNWwpzaBrm_"
      },
      "source": [
        "**Change type to string and process the texts**"
      ]
    },
    {
      "cell_type": "code",
      "execution_count": 17,
      "metadata": {
        "id": "LvRhPeBJHnla"
      },
      "outputs": [],
      "source": [
        "X = X.astype('str') \n",
        "X = X.apply(wordopt)"
      ]
    },
    {
      "cell_type": "markdown",
      "metadata": {
        "id": "BFgSlCAe9K-r"
      },
      "source": [
        "**Split the dataset**"
      ]
    },
    {
      "cell_type": "code",
      "execution_count": 18,
      "metadata": {
        "id": "tNRdOut_4oLg"
      },
      "outputs": [],
      "source": [
        "x_train,x_test,y_train,y_test=train_test_split(X, y, test_size=0.2, random_state=7)"
      ]
    },
    {
      "cell_type": "markdown",
      "metadata": {
        "id": "rP5Ijn259yt6"
      },
      "source": [
        "**Initialize a TfidfVectorizer**"
      ]
    },
    {
      "cell_type": "code",
      "execution_count": 19,
      "metadata": {
        "id": "ZRZFGbkC42xl"
      },
      "outputs": [],
      "source": [
        "tfidf_vectorizer=TfidfVectorizer(stop_words='english', max_df=0.7)"
      ]
    },
    {
      "cell_type": "markdown",
      "metadata": {
        "id": "_BpjD8XO9-0v"
      },
      "source": [
        "**Fit and transform train set, transform test set**"
      ]
    },
    {
      "cell_type": "code",
      "execution_count": 20,
      "metadata": {
        "id": "qTDhbA-D97Z8"
      },
      "outputs": [],
      "source": [
        "tfidf_train=tfidf_vectorizer.fit_transform(x_train) \n",
        "tfidf_test=tfidf_vectorizer.transform(x_test)"
      ]
    },
    {
      "cell_type": "markdown",
      "metadata": {
        "id": "drxbYUY4-6Gt"
      },
      "source": [
        "\n",
        "\n",
        "```\n",
        "# Initialize a Models\n",
        "```\n",
        "\n",
        "\n",
        "**We using 5 Models**\n",
        "***\n",
        "- Passive Aggressive Classifier\n",
        "- Logistic Regression\n",
        "- Decision Tree Classification\n",
        "- Gradient Boosting Classifier\n",
        "- Random Forest Classifier"
      ]
    },
    {
      "cell_type": "markdown",
      "metadata": {
        "id": "Q31YBRi-C50V"
      },
      "source": [
        "# Passive Aggressive Classifier"
      ]
    },
    {
      "cell_type": "markdown",
      "metadata": {
        "id": "Nc2IANvzDKjS"
      },
      "source": [
        "**Initialize a Model**"
      ]
    },
    {
      "cell_type": "code",
      "execution_count": 21,
      "metadata": {
        "colab": {
          "base_uri": "https://localhost:8080/"
        },
        "id": "1Dsy1ZLY-p8D",
        "outputId": "7b098ac3-c180-4a83-f9bb-54213fa97a0d"
      },
      "outputs": [
        {
          "output_type": "execute_result",
          "data": {
            "text/plain": [
              "PassiveAggressiveClassifier(max_iter=50)"
            ]
          },
          "metadata": {},
          "execution_count": 21
        }
      ],
      "source": [
        "PAC=PassiveAggressiveClassifier(max_iter=50)\n",
        "PAC.fit(tfidf_train,y_train)"
      ]
    },
    {
      "cell_type": "markdown",
      "metadata": {
        "id": "IcU15i3KDbhY"
      },
      "source": [
        "**Predict on the test set and calculate accuracy**"
      ]
    },
    {
      "cell_type": "code",
      "execution_count": 22,
      "metadata": {
        "id": "aILjNTpkDTmk",
        "colab": {
          "base_uri": "https://localhost:8080/"
        },
        "outputId": "9868be23-e7f9-4721-e4ae-c285f9d912c5"
      },
      "outputs": [
        {
          "output_type": "stream",
          "name": "stdout",
          "text": [
            "Passive Aggressive Classifier Accuracy: 97.38%\n"
          ]
        }
      ],
      "source": [
        "pred_pac = PAC.predict(tfidf_test)\n",
        "score_pac = accuracy_score(y_test,pred_pac)\n",
        "print(f'Passive Aggressive Classifier Accuracy: {round(score_pac*100,2)}%')"
      ]
    },
    {
      "cell_type": "markdown",
      "metadata": {
        "id": "IETrwhI3FKbm"
      },
      "source": [
        "**Build confusion matrix**"
      ]
    },
    {
      "cell_type": "code",
      "execution_count": 23,
      "metadata": {
        "id": "WN6QESbmFep6",
        "colab": {
          "base_uri": "https://localhost:8080/"
        },
        "outputId": "39be976c-fc28-4df8-d61e-9c939a49dcd5"
      },
      "outputs": [
        {
          "output_type": "execute_result",
          "data": {
            "text/plain": [
              "array([[5250,  108],\n",
              "       [ 160, 4725]])"
            ]
          },
          "metadata": {},
          "execution_count": 23
        }
      ],
      "source": [
        "confusion_matrix(y_test,pred_pac, labels=['FAKE','REAL'])"
      ]
    },
    {
      "cell_type": "markdown",
      "metadata": {
        "id": "vt1Fp_UQD4Fp"
      },
      "source": [
        "**Print Report**"
      ]
    },
    {
      "cell_type": "code",
      "execution_count": 24,
      "metadata": {
        "id": "WFnBbd5sD2eB",
        "colab": {
          "base_uri": "https://localhost:8080/"
        },
        "outputId": "dfd0bc2d-240a-48e2-e574-89d66c490fae"
      },
      "outputs": [
        {
          "output_type": "stream",
          "name": "stdout",
          "text": [
            "# Report Passive Aggressive Classifier #\n",
            "\n",
            "              precision    recall  f1-score   support\n",
            "\n",
            "        FAKE       0.97      0.98      0.98      5358\n",
            "        REAL       0.98      0.97      0.97      4885\n",
            "\n",
            "    accuracy                           0.97     10243\n",
            "   macro avg       0.97      0.97      0.97     10243\n",
            "weighted avg       0.97      0.97      0.97     10243\n",
            "\n"
          ]
        }
      ],
      "source": [
        "print('# Report Passive Aggressive Classifier #\\n')\n",
        "print(classification_report(y_test, pred_pac))"
      ]
    },
    {
      "cell_type": "markdown",
      "metadata": {
        "id": "-KydNqjiD__a"
      },
      "source": [
        "# Logistic Regression"
      ]
    },
    {
      "cell_type": "markdown",
      "metadata": {
        "id": "C1vUlaWnEIV2"
      },
      "source": [
        "**Initialize a Model**"
      ]
    },
    {
      "cell_type": "code",
      "execution_count": 25,
      "metadata": {
        "colab": {
          "base_uri": "https://localhost:8080/"
        },
        "id": "kt_lcRRV-sjM",
        "outputId": "ed56efc0-3379-4fe1-a767-4ed3cc4dea74"
      },
      "outputs": [
        {
          "output_type": "execute_result",
          "data": {
            "text/plain": [
              "LogisticRegression()"
            ]
          },
          "metadata": {},
          "execution_count": 25
        }
      ],
      "source": [
        "LR = LogisticRegression()\n",
        "LR.fit(tfidf_train,y_train)"
      ]
    },
    {
      "cell_type": "markdown",
      "metadata": {
        "id": "yxsXS9HvEIlh"
      },
      "source": [
        "**Predict on the test set and calculate accuracy**"
      ]
    },
    {
      "cell_type": "code",
      "execution_count": 26,
      "metadata": {
        "id": "Nh4aj1ndEuF-",
        "colab": {
          "base_uri": "https://localhost:8080/"
        },
        "outputId": "51f3d380-d0d2-4c4a-a40b-1b11bdd95394"
      },
      "outputs": [
        {
          "output_type": "stream",
          "name": "stdout",
          "text": [
            "Logistic Regression Accuracy: 96.21%\n"
          ]
        }
      ],
      "source": [
        "pred_lr = LR.predict(tfidf_test)\n",
        "score_lr = LR.score(tfidf_test, y_test)\n",
        "print(f'Logistic Regression Accuracy: {round(score_lr*100,2)}%')"
      ]
    },
    {
      "cell_type": "markdown",
      "metadata": {
        "id": "S6kLKsqyE_WL"
      },
      "source": [
        "Build confusion matrix"
      ]
    },
    {
      "cell_type": "code",
      "execution_count": 27,
      "metadata": {
        "id": "O5gXifPNFlKt",
        "colab": {
          "base_uri": "https://localhost:8080/"
        },
        "outputId": "7d7f1cfd-3db4-4d53-ce3c-a436d192cb9e"
      },
      "outputs": [
        {
          "output_type": "execute_result",
          "data": {
            "text/plain": [
              "array([[5223,  135],\n",
              "       [ 253, 4632]])"
            ]
          },
          "metadata": {},
          "execution_count": 27
        }
      ],
      "source": [
        "confusion_matrix(y_test,pred_lr, labels=['FAKE','REAL'])"
      ]
    },
    {
      "cell_type": "markdown",
      "metadata": {
        "id": "ha-U_v-PEG75"
      },
      "source": [
        "**Print Report**"
      ]
    },
    {
      "cell_type": "code",
      "execution_count": 28,
      "metadata": {
        "id": "upvrUN56Eu8E",
        "colab": {
          "base_uri": "https://localhost:8080/"
        },
        "outputId": "d930ed2c-edd9-4e37-aa59-ad35eefbac50"
      },
      "outputs": [
        {
          "output_type": "stream",
          "name": "stdout",
          "text": [
            "# Report Logistic Regression #\n",
            "\n",
            "              precision    recall  f1-score   support\n",
            "\n",
            "        FAKE       0.95      0.97      0.96      5358\n",
            "        REAL       0.97      0.95      0.96      4885\n",
            "\n",
            "    accuracy                           0.96     10243\n",
            "   macro avg       0.96      0.96      0.96     10243\n",
            "weighted avg       0.96      0.96      0.96     10243\n",
            "\n"
          ]
        }
      ],
      "source": [
        "print('# Report Logistic Regression #\\n')\n",
        "print(classification_report(y_test, pred_lr))"
      ]
    },
    {
      "cell_type": "markdown",
      "metadata": {
        "id": "-2c5IB1-F_NX"
      },
      "source": [
        "# Decision Tree Classification"
      ]
    },
    {
      "cell_type": "markdown",
      "metadata": {
        "id": "lDoJLaK6ETm_"
      },
      "source": [
        "**Initialize a Model**"
      ]
    },
    {
      "cell_type": "code",
      "execution_count": 29,
      "metadata": {
        "colab": {
          "base_uri": "https://localhost:8080/"
        },
        "id": "ZklXmtJyAG45",
        "outputId": "5b0da735-3822-4413-ba18-c973752fb5e5"
      },
      "outputs": [
        {
          "output_type": "execute_result",
          "data": {
            "text/plain": [
              "DecisionTreeClassifier()"
            ]
          },
          "metadata": {},
          "execution_count": 29
        }
      ],
      "source": [
        "DT = DecisionTreeClassifier()\n",
        "DT.fit(tfidf_train, y_train)"
      ]
    },
    {
      "cell_type": "markdown",
      "metadata": {
        "id": "JXpjtUKrEkxJ"
      },
      "source": [
        "**Predict on the test set and calculate accuracy**"
      ]
    },
    {
      "cell_type": "code",
      "execution_count": 30,
      "metadata": {
        "id": "ZA_qRWAzEwP7",
        "colab": {
          "base_uri": "https://localhost:8080/"
        },
        "outputId": "908e8fb4-cb19-41ec-813e-0a60e7105ec3"
      },
      "outputs": [
        {
          "output_type": "stream",
          "name": "stdout",
          "text": [
            "Decision Tree Classification Accuracy: 94.97%\n"
          ]
        }
      ],
      "source": [
        "pred_dt = DT.predict(tfidf_test)\n",
        "score_dt = DT.score(tfidf_test, y_test)\n",
        "print(f'Decision Tree Classification Accuracy: {round(score_dt*100,2)}%')"
      ]
    },
    {
      "cell_type": "markdown",
      "metadata": {
        "id": "IgzaqsuPFOxr"
      },
      "source": [
        "**Build confusion matrix**"
      ]
    },
    {
      "cell_type": "code",
      "execution_count": 31,
      "metadata": {
        "id": "LYs3o6C3FRF3",
        "colab": {
          "base_uri": "https://localhost:8080/"
        },
        "outputId": "cf9c0870-3d5d-4a11-a99d-04987624cdf9"
      },
      "outputs": [
        {
          "output_type": "execute_result",
          "data": {
            "text/plain": [
              "array([[5140,  218],\n",
              "       [ 297, 4588]])"
            ]
          },
          "metadata": {},
          "execution_count": 31
        }
      ],
      "source": [
        "confusion_matrix(y_test,pred_dt, labels=['FAKE','REAL'])"
      ]
    },
    {
      "cell_type": "markdown",
      "metadata": {
        "id": "YTgzCvIgEc61"
      },
      "source": [
        "**Print Report**"
      ]
    },
    {
      "cell_type": "code",
      "execution_count": 32,
      "metadata": {
        "id": "wYtLQnlWExSM",
        "colab": {
          "base_uri": "https://localhost:8080/"
        },
        "outputId": "3d50eb8d-b570-4b6e-edff-eff00b5ab7d0"
      },
      "outputs": [
        {
          "output_type": "stream",
          "name": "stdout",
          "text": [
            "# Report Decision Tree Classification #\n",
            "\n",
            "              precision    recall  f1-score   support\n",
            "\n",
            "        FAKE       0.95      0.96      0.95      5358\n",
            "        REAL       0.95      0.94      0.95      4885\n",
            "\n",
            "    accuracy                           0.95     10243\n",
            "   macro avg       0.95      0.95      0.95     10243\n",
            "weighted avg       0.95      0.95      0.95     10243\n",
            "\n"
          ]
        }
      ],
      "source": [
        "print('# Report Decision Tree Classification #\\n')\n",
        "print(classification_report(y_test, pred_dt))"
      ]
    },
    {
      "cell_type": "markdown",
      "metadata": {
        "id": "N1zLpl8-GJsx"
      },
      "source": [
        "# Gradient Boosting Classifier"
      ]
    },
    {
      "cell_type": "markdown",
      "metadata": {
        "id": "IDAHpvA8EU-j"
      },
      "source": [
        "**Initialize a Model**"
      ]
    },
    {
      "cell_type": "code",
      "execution_count": 33,
      "metadata": {
        "colab": {
          "base_uri": "https://localhost:8080/"
        },
        "id": "TD6MTNTKAGrq",
        "outputId": "0faeaf5f-6b1a-47e4-c631-1c16a899e8e0"
      },
      "outputs": [
        {
          "output_type": "execute_result",
          "data": {
            "text/plain": [
              "GradientBoostingClassifier(random_state=0)"
            ]
          },
          "metadata": {},
          "execution_count": 33
        }
      ],
      "source": [
        "GBC = GradientBoostingClassifier(random_state=0)\n",
        "GBC.fit(tfidf_train, y_train)"
      ]
    },
    {
      "cell_type": "markdown",
      "metadata": {
        "id": "tlxhP7cFEmbA"
      },
      "source": [
        "**Predict on the test set and calculate accuracy**"
      ]
    },
    {
      "cell_type": "code",
      "execution_count": 34,
      "metadata": {
        "colab": {
          "base_uri": "https://localhost:8080/"
        },
        "id": "bDnb3qzpEyMa",
        "outputId": "cb1e928f-a7cb-4e21-d1a1-985ee285fc3e"
      },
      "outputs": [
        {
          "output_type": "stream",
          "name": "stdout",
          "text": [
            "Gradient Boosting Classifier Accuracy: 95.27%\n"
          ]
        }
      ],
      "source": [
        "pred_gbc = GBC.predict(tfidf_test)\n",
        "score_gbc = GBC.score(tfidf_test, y_test)\n",
        "print(f'Gradient Boosting Classifier Accuracy: {round(score_gbc*100,2)}%')"
      ]
    },
    {
      "cell_type": "markdown",
      "metadata": {
        "id": "DtVL80xoFTmM"
      },
      "source": [
        "**Build confusion matrix**"
      ]
    },
    {
      "cell_type": "code",
      "execution_count": 35,
      "metadata": {
        "colab": {
          "base_uri": "https://localhost:8080/"
        },
        "id": "qEiKWIfEFVEb",
        "outputId": "bfe47022-5ddd-4cc2-a21f-4d666d373b5f"
      },
      "outputs": [
        {
          "output_type": "execute_result",
          "data": {
            "text/plain": [
              "array([[5273,   85],\n",
              "       [ 399, 4486]])"
            ]
          },
          "metadata": {},
          "execution_count": 35
        }
      ],
      "source": [
        "confusion_matrix(y_test,pred_gbc, labels=['FAKE','REAL'])"
      ]
    },
    {
      "cell_type": "markdown",
      "metadata": {
        "id": "l53BNG_WEfjy"
      },
      "source": [
        "**Print Report**"
      ]
    },
    {
      "cell_type": "code",
      "execution_count": 36,
      "metadata": {
        "colab": {
          "base_uri": "https://localhost:8080/"
        },
        "id": "eXqM7ugiEzZG",
        "outputId": "92f86b2b-284f-4ca8-fe7c-28783d495bdf"
      },
      "outputs": [
        {
          "output_type": "stream",
          "name": "stdout",
          "text": [
            "# Report Gradient Boosting Classifier #\n",
            "\n",
            "              precision    recall  f1-score   support\n",
            "\n",
            "        FAKE       0.93      0.98      0.96      5358\n",
            "        REAL       0.98      0.92      0.95      4885\n",
            "\n",
            "    accuracy                           0.95     10243\n",
            "   macro avg       0.96      0.95      0.95     10243\n",
            "weighted avg       0.95      0.95      0.95     10243\n",
            "\n"
          ]
        }
      ],
      "source": [
        "print('# Report Gradient Boosting Classifier #\\n')\n",
        "print(classification_report(y_test, pred_gbc))"
      ]
    },
    {
      "cell_type": "markdown",
      "metadata": {
        "id": "TEDek8LoGNbE"
      },
      "source": [
        "# Random Forest Classifier"
      ]
    },
    {
      "cell_type": "markdown",
      "metadata": {
        "id": "oNoLslYAEWFi"
      },
      "source": [
        "**Initialize a Model**"
      ]
    },
    {
      "cell_type": "code",
      "execution_count": 37,
      "metadata": {
        "colab": {
          "base_uri": "https://localhost:8080/"
        },
        "id": "aGWpdWesAGaV",
        "outputId": "2cea9292-b20f-4503-b453-825f212c38b9"
      },
      "outputs": [
        {
          "output_type": "execute_result",
          "data": {
            "text/plain": [
              "RandomForestClassifier(random_state=0)"
            ]
          },
          "metadata": {},
          "execution_count": 37
        }
      ],
      "source": [
        "RFC = RandomForestClassifier(random_state=0)\n",
        "RFC.fit(tfidf_train, y_train)"
      ]
    },
    {
      "cell_type": "markdown",
      "metadata": {
        "id": "QKE3lKuqEoXX"
      },
      "source": [
        "**Predict on the test set and calculate accuracy**"
      ]
    },
    {
      "cell_type": "code",
      "execution_count": 38,
      "metadata": {
        "id": "W_1q12eFE1ST",
        "colab": {
          "base_uri": "https://localhost:8080/"
        },
        "outputId": "a3018667-7a2f-46ab-a287-7fb375ce1c2c"
      },
      "outputs": [
        {
          "output_type": "stream",
          "name": "stdout",
          "text": [
            "Random Forest Classifier Accuracy: 95.27%\n"
          ]
        }
      ],
      "source": [
        "pred_rfc = RFC.predict(tfidf_test)\n",
        "score_rfc = RFC.score(tfidf_test, y_test)\n",
        "print(f'Random Forest Classifier Accuracy: {round(score_gbc*100,2)}%')"
      ]
    },
    {
      "cell_type": "markdown",
      "metadata": {
        "id": "0l-cpOtqFWdf"
      },
      "source": [
        "**Build confusion matrix**"
      ]
    },
    {
      "cell_type": "code",
      "execution_count": 39,
      "metadata": {
        "id": "0XKFrQNcFX6y",
        "colab": {
          "base_uri": "https://localhost:8080/"
        },
        "outputId": "b4998392-a402-4037-b468-cf1c6908714c"
      },
      "outputs": [
        {
          "output_type": "execute_result",
          "data": {
            "text/plain": [
              "array([[5217,  141],\n",
              "       [ 310, 4575]])"
            ]
          },
          "metadata": {},
          "execution_count": 39
        }
      ],
      "source": [
        "confusion_matrix(y_test,pred_rfc, labels=['FAKE','REAL'])"
      ]
    },
    {
      "cell_type": "markdown",
      "metadata": {
        "id": "5fxnlGdfEgq2"
      },
      "source": [
        "**Print Report**"
      ]
    },
    {
      "cell_type": "code",
      "execution_count": 40,
      "metadata": {
        "id": "qvnOSOGnE2OX",
        "colab": {
          "base_uri": "https://localhost:8080/"
        },
        "outputId": "e42d9488-d275-4a12-e15a-7bb7a27f9da9"
      },
      "outputs": [
        {
          "output_type": "stream",
          "name": "stdout",
          "text": [
            "# Report Random Forest Classifier #\n",
            "\n",
            "              precision    recall  f1-score   support\n",
            "\n",
            "        FAKE       0.94      0.97      0.96      5358\n",
            "        REAL       0.97      0.94      0.95      4885\n",
            "\n",
            "    accuracy                           0.96     10243\n",
            "   macro avg       0.96      0.96      0.96     10243\n",
            "weighted avg       0.96      0.96      0.96     10243\n",
            "\n"
          ]
        }
      ],
      "source": [
        "print('# Report Random Forest Classifier #\\n')\n",
        "print(classification_report(y_test, pred_rfc))"
      ]
    },
    {
      "cell_type": "markdown",
      "metadata": {
        "id": "DgO-X55-FOgb"
      },
      "source": [
        "# calculate accuracy All Models"
      ]
    },
    {
      "cell_type": "code",
      "execution_count": 41,
      "metadata": {
        "id": "omUcYX3E8eFj",
        "colab": {
          "base_uri": "https://localhost:8080/"
        },
        "outputId": "1a257030-22dc-4917-d10d-04d324e89ed1"
      },
      "outputs": [
        {
          "output_type": "stream",
          "name": "stdout",
          "text": [
            "Passive Aggressive Classifier Accuracy: 97.38%\n",
            "Logistic Regression Accuracy: 96.21%\n",
            "Decision Tree Classification Accuracy: 94.97%\n",
            "Gradient Boosting Classifier Accuracy: 95.27%\n",
            "Random Forest Classifier Accuracy: 95.27%\n"
          ]
        }
      ],
      "source": [
        "#PassiveAggressiveClassifier\n",
        "score_pac = accuracy_score(y_test,pred_pac)\n",
        "print(f'Passive Aggressive Classifier Accuracy: {round(score_pac*100,2)}%')\n",
        "#Logistic Regression\n",
        "score_lr = LR.score(tfidf_test, y_test)\n",
        "print(f'Logistic Regression Accuracy: {round(score_lr*100,2)}%')\n",
        "#Decision Tree Classification\n",
        "score_dt = DT.score(tfidf_test, y_test)\n",
        "print(f'Decision Tree Classification Accuracy: {round(score_dt*100,2)}%')\n",
        "#Gradient Boosting Classifier\n",
        "score_gbc = GBC.score(tfidf_test, y_test)\n",
        "print(f'Gradient Boosting Classifier Accuracy: {round(score_gbc*100,2)}%')\n",
        "#Random Forest Classifier\n",
        "score_rfc = RFC.score(tfidf_test, y_test)\n",
        "print(f'Random Forest Classifier Accuracy: {round(score_gbc*100,2)}%')"
      ]
    },
    {
      "cell_type": "markdown",
      "metadata": {
        "id": "HPpWUWGWHkGs"
      },
      "source": [
        "# Testing Models"
      ]
    },
    {
      "cell_type": "code",
      "execution_count": 42,
      "metadata": {
        "id": "ZRSBwu1pI3Lg"
      },
      "outputs": [],
      "source": [
        "def output_lable(n):\n",
        "    if n == 'FAKE':\n",
        "        return \"Fake News\"\n",
        "    elif n == 'REAL':\n",
        "        return \"Real News\"\n",
        "    \n",
        "def manual_testing(news):\n",
        "    testing_news = {\"text\":[news]}\n",
        "    new_def_test = pd.DataFrame(testing_news)\n",
        "    new_def_test[\"text\"] = new_def_test[\"text\"].apply(wordopt) \n",
        "    new_x_test = new_def_test[\"text\"]\n",
        "    new_xv_test = tfidf_vectorizer.transform(new_x_test)\n",
        "    pred_PAC = PAC.predict(new_xv_test)\n",
        "    pred_LR = LR.predict(new_xv_test)\n",
        "    pred_DT = DT.predict(new_xv_test)\n",
        "    pred_GBC = GBC.predict(new_xv_test)\n",
        "    pred_RFC = RFC.predict(new_xv_test)\n",
        "\n",
        "    return print(\"\\n\\nPAC Prediction: {} \\nLR Prediction: {} \\nDT Prediction: {} \\nGBC Prediction: {} \\nRFC Prediction: {}\".format(output_lable(pred_PAC[0]),\n",
        "                                                                                                                                     output_lable(pred_LR[0]),\n",
        "                                                                                                                                     output_lable(pred_DT[0]), \n",
        "                                                                                                                                    output_lable(pred_GBC[0]), \n",
        "                                                                                                                                    output_lable(pred_RFC[0])))"
      ]
    },
    {
      "cell_type": "code",
      "execution_count": 43,
      "metadata": {
        "colab": {
          "base_uri": "https://localhost:8080/"
        },
        "id": "Ir9gqi2xxuGa",
        "outputId": "21bb8abb-dee9-4391-e106-c222e053fc38"
      },
      "outputs": [
        {
          "output_type": "stream",
          "name": "stdout",
          "text": [
            "Paul Craig RobertsIn the last years of the 20th century fraud entered US foreign policy in a new way.  On false pretenses Washington dismantled Yugoslavia and Serbia in order to advance an undeclared agenda. In the 21st century this fraud multiplied many times. Afghanistan, Iraq, Somalia, and Libya were destroyed, and Iran and Syria would also have been destroyed if the President of Russia had not prevented it.  Washington is also behind the current destruction of Yemen, and Washington has enabled and financed the Israeli destruction of Palestine.  Additionally, Washington operated militarily within Pakistan without declaring war, murdering many women, children, and village elders under the guise of  combating terrorism.  Washington s war crimes rival those of any country in history.I have documented these crimes in my columns and books (Clarity Press). Anyone who still believes in the purity of Washington s foreign policy is a lost soul  Russia and China now have a strategic alliance that is too strong for Washington. Russia and China will prevent Washington from further encroachments on their security and national interests. Those countries important to Russia and China will be protected by the alliance.  As the world wakes up and sees the evil that the West represents, more countries will seek the protection of Russia and China.America is also failing on the economic front.  My columns and my book, The Failure of Laissez Faire Capitalism, which has been published in English, Chinese, Korean, Czech, and German, have shown how Washington has stood aside, indeed cheering it on, while the short-term profit interests of management, shareholders, and Wall Street eviscerated the American economy, sending manufacturing jobs, business know-how, and technology, along with professional tradeable skill jobs, to China, India, and other countries, leaving America with such a hollowed out economy that the median family income has been falling for years. Today 50% of 25 year-old Americans are living with their parents or grandparents because they cannot find employment sufficient to sustain an independent existance.This brutal fact is covered up by the presstitute US media, a source of fantasy stories of America s economic recovery.The facts of our existence are so different from what is reported that I am astonished. As a former professor of economics, Wall Street Journal editor and Assistant Secretary of the Treasury for Economic Policy, I am astonished at the corruption that rules in the financial sector, the Treasury, the financial regulatory agencies, and the Federal Reserve.  In my day, there would have been indictments and prison sentences of bankers and high government officials.In America today there are no free financial markets.  All the markets are rigged by the Federal Reserve and the Treasury. The regulatory agencies, controlled by those the agencies are supposed to regulate, turn a blind eye, and even if they did not, they are helpless to enforce any law, because private interests are more powerful than the law.Even the government s statistical agencies have been corrupted. Inflation measures have been concocted in order to understate inflation. This lie not only saves Washington from paying Social Security cost-of-living adjustments and frees the money for more wars, but also by understating inflation, the government can create real GDP growth by counting inflation as real growth, just as the government creates 5% unemployment by not counting any discouraged workers who have looked for jobs until they can no longer afford the cost of looking and give up.  The official unemployment rate is 5%, but no one can find a job.  How can the unemployment rate be 5% when half of 25-year olds are living with relatives because they cannot afford an independent existence?  As John Williams (shadowfacts) reports, the unemployment rate that includes those Americans who have given up looking for a job because there are no jobs to be found is 23%.The Federal Reserve, a tool of a small handful of banks, has succeeded in creating the illusion of an economic recovery since June, 2009, by printing trillions of dollars that found their way not into the economy but into the prices of financial assets.  Artificially booming stock and bond markets are the presstitute financial media s  proof  of a booming economy.The handful of learned people that America has left, and it is only a small handful, understand that there has been no recovery from the previous recession and that a new downturn is upon us.  John Williams has pointed out that US industrial production, when properly adjusted for inflation, has never recovered its 2008 level, much less its 2000 peak, and has again turned down.The American consumer is exhausted, overwhelmed by debt and lack of income growth. The entire economic policy of America is focused on saving a handful of NY banks, not on saving the American economy.Economists and other Wall Street shills will dismiss the decline in industrial production as America is now a service economy. Economists pretend that these are high-tech services of the New Economy, but in fact waitresses, bartenders, part time retail clerks, and ambulatory health care services have replaced manufacturing and engineering jobs at a fraction of the pay, thus collapsing effective aggregate demand in the US. On occasions when neoliberal economists recognize problems, they blame them on China.It is unclear that the US economy can be revived. To revive the US economy would require the re-regulation of the financial system and the recall of the jobs and US GDP that offshoring gave to foreign countries. It would require, as Michael Hudson demonstrates in his new book, Killing the Host, a revolution in tax policy that would prevent the financial sector from extracting economic surplus and capitalizing it in debt obligations paying interest to the financial sector.The US government, controlled as it is by corrupt economic interests, would never permit policies that impinged on executive bonuses and Wall Street profits.  Today US capitalism makes its money by selling out the American economy and the people dependent upon it.In  freedom and democracy  America, the government and the economy serve interests totally removed from the interests of the American people. The sellout of the American people is protected by a huge canopy of propaganda provided by free market economists and financial presstitutes paid to lie for their living.When America fails, so will Washington s vassal states in Europe, Canada, Australia, and Japan.  Unless Washington destroys the world in nuclear war, the world will be remade, and the corrupt and dissolute West will be an insignificant part of the new world.Dr. Paul Craig Roberts was Assistant Secretary of the Treasury for Economic Policy and associate editor of the Wall Street Journal. He was columnist for Business Week, Scripps Howard News Service, and Creators Syndicate. He has had many university appointments. His internet columns have attracted a worldwide following. Roberts  latest books are The Failure of Laissez Faire Capitalism and Economic Dissolution of the West, How America Was Lost, and The Neoconservative Threat to World Order. READ MORE NWO NEWS AT: 21st Century Wire NWO Files\n",
            "\n",
            "\n",
            "PAC Prediction: Fake News \n",
            "LR Prediction: Fake News \n",
            "DT Prediction: Fake News \n",
            "GBC Prediction: Fake News \n",
            "RFC Prediction: Fake News\n"
          ]
        }
      ],
      "source": [
        "news = str(input())\n",
        "manual_testing(news)"
      ]
    },
    {
      "cell_type": "code",
      "execution_count": 44,
      "metadata": {
        "colab": {
          "base_uri": "https://localhost:8080/"
        },
        "id": "aVw9-Rjcx5UB",
        "outputId": "aba0e362-bac0-4984-c4d6-82be5b2cd346"
      },
      "outputs": [
        {
          "output_type": "stream",
          "name": "stdout",
          "text": [
            "MINSK (Reuters) - In the shadow of disused Soviet-era factories in Minsk, a street lined with eclectic bars, art galleries and yoga studios has become a haven from the vigilant eyes of the Belarussian authorities.  This place is like an island,  said Yegor, 21, who works at  popular bar Hooligan.  It s the street of freedom.  The government of President Alexander Lukashenko, who has ruled Belarus for the past 23 years and has boasted that he is  the last and only dictator in Europe  ,has little tolerance for any opposition. A powerful police force and feared state security  keep citizens in check. But police patrols are rare in Oktyabrskaya, partly due to its location on an out-of-the-way peninsula in a bend of the river Svislach. When the first restaurant opened there in 2012, few visitors came but now it ranks among the most fashionable quarters of Minsk.  Such is the growing popularity of that Oktyabrskaya that investors such as Belgazprombank, a subsidiary of state-owned Russian lender Gazprombank, have big plans for the district. Earlier this year the bank purchased part of a factory there and intends to turn it into a gallery, restaurant and theater complex. The manufacturing sector has not entirely abandoned Oktyabrskaya - one  machine-making factory named after the 1917 October Revolution (MZOR) still operates there. Financial difficulties prompted state-owned MZOR to lease or sell some of its facilities to Oktyabrskaya s developers, but the firm still maintains some production with a reduced workforce. Mikhail, who has worked at the factory for 42 years, said he approves of the influx of new  hipster  businesses.  The street has come back to life,  he said. Oktyabrskaya s long-term future ultimately depends on the authorities good favor, cultural analyst Maksim Zhbankov said.  For now they tolerate it. But I can t say that someone won t turn up tomorrow and say they ve decided to tear it all down,  he said. \n",
            "\n",
            "\n",
            "PAC Prediction: Real News \n",
            "LR Prediction: Real News \n",
            "DT Prediction: Real News \n",
            "GBC Prediction: Real News \n",
            "RFC Prediction: Real News\n"
          ]
        }
      ],
      "source": [
        "news = str(input())\n",
        "manual_testing(news)"
      ]
    },
    {
      "cell_type": "markdown",
      "source": [
        "# load and prepossessing Data for Deep Learning"
      ],
      "metadata": {
        "id": "Vz8LFFFGUYhR"
      }
    },
    {
      "cell_type": "code",
      "source": [
        "import matplotlib.pyplot as plt\n",
        "import seaborn as sns\n",
        "import re\n",
        "import string \n",
        "from bs4 import BeautifulSoup\n",
        "\n",
        "import tensorflow as tf\n",
        "from sklearn.model_selection import train_test_split\n",
        "from sklearn.metrics import classification_report\n",
        "\n",
        "import keras\n",
        "from keras.preprocessing import text,sequence\n",
        "from keras.models import Sequential\n",
        "from keras.layers import Dense,Embedding,LSTM,Dropout"
      ],
      "metadata": {
        "id": "hWE73lrNUpX0"
      },
      "execution_count": 45,
      "outputs": []
    },
    {
      "cell_type": "code",
      "source": [
        "fake_data = data_fake \n",
        "real_data = data_real "
      ],
      "metadata": {
        "id": "R1p8MXlIU4HS"
      },
      "execution_count": 46,
      "outputs": []
    },
    {
      "cell_type": "code",
      "source": [
        "#add column \n",
        "real_data['target'] = 1\n",
        "fake_data['target'] = 0 "
      ],
      "metadata": {
        "id": "icSoE11LVPQN"
      },
      "execution_count": 47,
      "outputs": []
    },
    {
      "cell_type": "code",
      "source": [
        "#Merging the 2 datasets\n",
        "data = pd.concat([real_data, fake_data], ignore_index=True, sort=False)\n",
        "data.head()"
      ],
      "metadata": {
        "id": "nHqU5KK-VZ1S",
        "colab": {
          "base_uri": "https://localhost:8080/",
          "height": 206
        },
        "outputId": "cdc91ab1-3422-4288-a216-0080fc2548c2"
      },
      "execution_count": 48,
      "outputs": [
        {
          "output_type": "execute_result",
          "data": {
            "text/plain": [
              "                                               title  \\\n",
              "0  As U.S. budget fight looms, Republicans flip t...   \n",
              "1  U.S. military to accept transgender recruits o...   \n",
              "2  Senior U.S. Republican senator: 'Let Mr. Muell...   \n",
              "3  FBI Russia probe helped by Australian diplomat...   \n",
              "4  Trump wants Postal Service to charge 'much mor...   \n",
              "\n",
              "                                                text       subject  \\\n",
              "0  WASHINGTON (Reuters) - The head of a conservat...  politicsNews   \n",
              "1  WASHINGTON (Reuters) - Transgender people will...  politicsNews   \n",
              "2  WASHINGTON (Reuters) - The special counsel inv...  politicsNews   \n",
              "3  WASHINGTON (Reuters) - Trump campaign adviser ...  politicsNews   \n",
              "4  SEATTLE/WASHINGTON (Reuters) - President Donal...  politicsNews   \n",
              "\n",
              "                 date label  target  \n",
              "0  December 31, 2017   REAL       1  \n",
              "1  December 29, 2017   REAL       1  \n",
              "2  December 31, 2017   REAL       1  \n",
              "3  December 30, 2017   REAL       1  \n",
              "4  December 29, 2017   REAL       1  "
            ],
            "text/html": [
              "\n",
              "  <div id=\"df-9088f11a-0e01-4ad3-b3db-0fca4eaeb5d8\">\n",
              "    <div class=\"colab-df-container\">\n",
              "      <div>\n",
              "<style scoped>\n",
              "    .dataframe tbody tr th:only-of-type {\n",
              "        vertical-align: middle;\n",
              "    }\n",
              "\n",
              "    .dataframe tbody tr th {\n",
              "        vertical-align: top;\n",
              "    }\n",
              "\n",
              "    .dataframe thead th {\n",
              "        text-align: right;\n",
              "    }\n",
              "</style>\n",
              "<table border=\"1\" class=\"dataframe\">\n",
              "  <thead>\n",
              "    <tr style=\"text-align: right;\">\n",
              "      <th></th>\n",
              "      <th>title</th>\n",
              "      <th>text</th>\n",
              "      <th>subject</th>\n",
              "      <th>date</th>\n",
              "      <th>label</th>\n",
              "      <th>target</th>\n",
              "    </tr>\n",
              "  </thead>\n",
              "  <tbody>\n",
              "    <tr>\n",
              "      <th>0</th>\n",
              "      <td>As U.S. budget fight looms, Republicans flip t...</td>\n",
              "      <td>WASHINGTON (Reuters) - The head of a conservat...</td>\n",
              "      <td>politicsNews</td>\n",
              "      <td>December 31, 2017</td>\n",
              "      <td>REAL</td>\n",
              "      <td>1</td>\n",
              "    </tr>\n",
              "    <tr>\n",
              "      <th>1</th>\n",
              "      <td>U.S. military to accept transgender recruits o...</td>\n",
              "      <td>WASHINGTON (Reuters) - Transgender people will...</td>\n",
              "      <td>politicsNews</td>\n",
              "      <td>December 29, 2017</td>\n",
              "      <td>REAL</td>\n",
              "      <td>1</td>\n",
              "    </tr>\n",
              "    <tr>\n",
              "      <th>2</th>\n",
              "      <td>Senior U.S. Republican senator: 'Let Mr. Muell...</td>\n",
              "      <td>WASHINGTON (Reuters) - The special counsel inv...</td>\n",
              "      <td>politicsNews</td>\n",
              "      <td>December 31, 2017</td>\n",
              "      <td>REAL</td>\n",
              "      <td>1</td>\n",
              "    </tr>\n",
              "    <tr>\n",
              "      <th>3</th>\n",
              "      <td>FBI Russia probe helped by Australian diplomat...</td>\n",
              "      <td>WASHINGTON (Reuters) - Trump campaign adviser ...</td>\n",
              "      <td>politicsNews</td>\n",
              "      <td>December 30, 2017</td>\n",
              "      <td>REAL</td>\n",
              "      <td>1</td>\n",
              "    </tr>\n",
              "    <tr>\n",
              "      <th>4</th>\n",
              "      <td>Trump wants Postal Service to charge 'much mor...</td>\n",
              "      <td>SEATTLE/WASHINGTON (Reuters) - President Donal...</td>\n",
              "      <td>politicsNews</td>\n",
              "      <td>December 29, 2017</td>\n",
              "      <td>REAL</td>\n",
              "      <td>1</td>\n",
              "    </tr>\n",
              "  </tbody>\n",
              "</table>\n",
              "</div>\n",
              "      <button class=\"colab-df-convert\" onclick=\"convertToInteractive('df-9088f11a-0e01-4ad3-b3db-0fca4eaeb5d8')\"\n",
              "              title=\"Convert this dataframe to an interactive table.\"\n",
              "              style=\"display:none;\">\n",
              "        \n",
              "  <svg xmlns=\"http://www.w3.org/2000/svg\" height=\"24px\"viewBox=\"0 0 24 24\"\n",
              "       width=\"24px\">\n",
              "    <path d=\"M0 0h24v24H0V0z\" fill=\"none\"/>\n",
              "    <path d=\"M18.56 5.44l.94 2.06.94-2.06 2.06-.94-2.06-.94-.94-2.06-.94 2.06-2.06.94zm-11 1L8.5 8.5l.94-2.06 2.06-.94-2.06-.94L8.5 2.5l-.94 2.06-2.06.94zm10 10l.94 2.06.94-2.06 2.06-.94-2.06-.94-.94-2.06-.94 2.06-2.06.94z\"/><path d=\"M17.41 7.96l-1.37-1.37c-.4-.4-.92-.59-1.43-.59-.52 0-1.04.2-1.43.59L10.3 9.45l-7.72 7.72c-.78.78-.78 2.05 0 2.83L4 21.41c.39.39.9.59 1.41.59.51 0 1.02-.2 1.41-.59l7.78-7.78 2.81-2.81c.8-.78.8-2.07 0-2.86zM5.41 20L4 18.59l7.72-7.72 1.47 1.35L5.41 20z\"/>\n",
              "  </svg>\n",
              "      </button>\n",
              "      \n",
              "  <style>\n",
              "    .colab-df-container {\n",
              "      display:flex;\n",
              "      flex-wrap:wrap;\n",
              "      gap: 12px;\n",
              "    }\n",
              "\n",
              "    .colab-df-convert {\n",
              "      background-color: #E8F0FE;\n",
              "      border: none;\n",
              "      border-radius: 50%;\n",
              "      cursor: pointer;\n",
              "      display: none;\n",
              "      fill: #1967D2;\n",
              "      height: 32px;\n",
              "      padding: 0 0 0 0;\n",
              "      width: 32px;\n",
              "    }\n",
              "\n",
              "    .colab-df-convert:hover {\n",
              "      background-color: #E2EBFA;\n",
              "      box-shadow: 0px 1px 2px rgba(60, 64, 67, 0.3), 0px 1px 3px 1px rgba(60, 64, 67, 0.15);\n",
              "      fill: #174EA6;\n",
              "    }\n",
              "\n",
              "    [theme=dark] .colab-df-convert {\n",
              "      background-color: #3B4455;\n",
              "      fill: #D2E3FC;\n",
              "    }\n",
              "\n",
              "    [theme=dark] .colab-df-convert:hover {\n",
              "      background-color: #434B5C;\n",
              "      box-shadow: 0px 1px 3px 1px rgba(0, 0, 0, 0.15);\n",
              "      filter: drop-shadow(0px 1px 2px rgba(0, 0, 0, 0.3));\n",
              "      fill: #FFFFFF;\n",
              "    }\n",
              "  </style>\n",
              "\n",
              "      <script>\n",
              "        const buttonEl =\n",
              "          document.querySelector('#df-9088f11a-0e01-4ad3-b3db-0fca4eaeb5d8 button.colab-df-convert');\n",
              "        buttonEl.style.display =\n",
              "          google.colab.kernel.accessAllowed ? 'block' : 'none';\n",
              "\n",
              "        async function convertToInteractive(key) {\n",
              "          const element = document.querySelector('#df-9088f11a-0e01-4ad3-b3db-0fca4eaeb5d8');\n",
              "          const dataTable =\n",
              "            await google.colab.kernel.invokeFunction('convertToInteractive',\n",
              "                                                     [key], {});\n",
              "          if (!dataTable) return;\n",
              "\n",
              "          const docLinkHtml = 'Like what you see? Visit the ' +\n",
              "            '<a target=\"_blank\" href=https://colab.research.google.com/notebooks/data_table.ipynb>data table notebook</a>'\n",
              "            + ' to learn more about interactive tables.';\n",
              "          element.innerHTML = '';\n",
              "          dataTable['output_type'] = 'display_data';\n",
              "          await google.colab.output.renderOutput(dataTable, element);\n",
              "          const docLink = document.createElement('div');\n",
              "          docLink.innerHTML = docLinkHtml;\n",
              "          element.appendChild(docLink);\n",
              "        }\n",
              "      </script>\n",
              "    </div>\n",
              "  </div>\n",
              "  "
            ]
          },
          "metadata": {},
          "execution_count": 48
        }
      ]
    },
    {
      "cell_type": "code",
      "source": [
        "data.columns"
      ],
      "metadata": {
        "id": "7IJfsm50VlZd",
        "colab": {
          "base_uri": "https://localhost:8080/"
        },
        "outputId": "cdacdb8e-1b78-446d-941d-1b69b8b10607"
      },
      "execution_count": 49,
      "outputs": [
        {
          "output_type": "execute_result",
          "data": {
            "text/plain": [
              "Index(['title', 'text', 'subject', 'date', 'label', 'target'], dtype='object')"
            ]
          },
          "metadata": {},
          "execution_count": 49
        }
      ]
    },
    {
      "cell_type": "code",
      "source": [
        "data['text']= data['subject'] + \" \" + data['title'] + \" \" + data['text']\n",
        "del data['title']\n",
        "del data['subject']\n",
        "del data['date']\n",
        "del data['label']\n",
        "data.head()"
      ],
      "metadata": {
        "id": "aAoRdU9EVe_R",
        "colab": {
          "base_uri": "https://localhost:8080/",
          "height": 206
        },
        "outputId": "4d9e3352-c559-48e7-f5a8-00e1057d1364"
      },
      "execution_count": 50,
      "outputs": [
        {
          "output_type": "execute_result",
          "data": {
            "text/plain": [
              "                                                text  target\n",
              "0  politicsNews As U.S. budget fight looms, Repub...       1\n",
              "1  politicsNews U.S. military to accept transgend...       1\n",
              "2  politicsNews Senior U.S. Republican senator: '...       1\n",
              "3  politicsNews FBI Russia probe helped by Austra...       1\n",
              "4  politicsNews Trump wants Postal Service to cha...       1"
            ],
            "text/html": [
              "\n",
              "  <div id=\"df-23da5c9b-f69a-444a-b81e-6c9a541784c6\">\n",
              "    <div class=\"colab-df-container\">\n",
              "      <div>\n",
              "<style scoped>\n",
              "    .dataframe tbody tr th:only-of-type {\n",
              "        vertical-align: middle;\n",
              "    }\n",
              "\n",
              "    .dataframe tbody tr th {\n",
              "        vertical-align: top;\n",
              "    }\n",
              "\n",
              "    .dataframe thead th {\n",
              "        text-align: right;\n",
              "    }\n",
              "</style>\n",
              "<table border=\"1\" class=\"dataframe\">\n",
              "  <thead>\n",
              "    <tr style=\"text-align: right;\">\n",
              "      <th></th>\n",
              "      <th>text</th>\n",
              "      <th>target</th>\n",
              "    </tr>\n",
              "  </thead>\n",
              "  <tbody>\n",
              "    <tr>\n",
              "      <th>0</th>\n",
              "      <td>politicsNews As U.S. budget fight looms, Repub...</td>\n",
              "      <td>1</td>\n",
              "    </tr>\n",
              "    <tr>\n",
              "      <th>1</th>\n",
              "      <td>politicsNews U.S. military to accept transgend...</td>\n",
              "      <td>1</td>\n",
              "    </tr>\n",
              "    <tr>\n",
              "      <th>2</th>\n",
              "      <td>politicsNews Senior U.S. Republican senator: '...</td>\n",
              "      <td>1</td>\n",
              "    </tr>\n",
              "    <tr>\n",
              "      <th>3</th>\n",
              "      <td>politicsNews FBI Russia probe helped by Austra...</td>\n",
              "      <td>1</td>\n",
              "    </tr>\n",
              "    <tr>\n",
              "      <th>4</th>\n",
              "      <td>politicsNews Trump wants Postal Service to cha...</td>\n",
              "      <td>1</td>\n",
              "    </tr>\n",
              "  </tbody>\n",
              "</table>\n",
              "</div>\n",
              "      <button class=\"colab-df-convert\" onclick=\"convertToInteractive('df-23da5c9b-f69a-444a-b81e-6c9a541784c6')\"\n",
              "              title=\"Convert this dataframe to an interactive table.\"\n",
              "              style=\"display:none;\">\n",
              "        \n",
              "  <svg xmlns=\"http://www.w3.org/2000/svg\" height=\"24px\"viewBox=\"0 0 24 24\"\n",
              "       width=\"24px\">\n",
              "    <path d=\"M0 0h24v24H0V0z\" fill=\"none\"/>\n",
              "    <path d=\"M18.56 5.44l.94 2.06.94-2.06 2.06-.94-2.06-.94-.94-2.06-.94 2.06-2.06.94zm-11 1L8.5 8.5l.94-2.06 2.06-.94-2.06-.94L8.5 2.5l-.94 2.06-2.06.94zm10 10l.94 2.06.94-2.06 2.06-.94-2.06-.94-.94-2.06-.94 2.06-2.06.94z\"/><path d=\"M17.41 7.96l-1.37-1.37c-.4-.4-.92-.59-1.43-.59-.52 0-1.04.2-1.43.59L10.3 9.45l-7.72 7.72c-.78.78-.78 2.05 0 2.83L4 21.41c.39.39.9.59 1.41.59.51 0 1.02-.2 1.41-.59l7.78-7.78 2.81-2.81c.8-.78.8-2.07 0-2.86zM5.41 20L4 18.59l7.72-7.72 1.47 1.35L5.41 20z\"/>\n",
              "  </svg>\n",
              "      </button>\n",
              "      \n",
              "  <style>\n",
              "    .colab-df-container {\n",
              "      display:flex;\n",
              "      flex-wrap:wrap;\n",
              "      gap: 12px;\n",
              "    }\n",
              "\n",
              "    .colab-df-convert {\n",
              "      background-color: #E8F0FE;\n",
              "      border: none;\n",
              "      border-radius: 50%;\n",
              "      cursor: pointer;\n",
              "      display: none;\n",
              "      fill: #1967D2;\n",
              "      height: 32px;\n",
              "      padding: 0 0 0 0;\n",
              "      width: 32px;\n",
              "    }\n",
              "\n",
              "    .colab-df-convert:hover {\n",
              "      background-color: #E2EBFA;\n",
              "      box-shadow: 0px 1px 2px rgba(60, 64, 67, 0.3), 0px 1px 3px 1px rgba(60, 64, 67, 0.15);\n",
              "      fill: #174EA6;\n",
              "    }\n",
              "\n",
              "    [theme=dark] .colab-df-convert {\n",
              "      background-color: #3B4455;\n",
              "      fill: #D2E3FC;\n",
              "    }\n",
              "\n",
              "    [theme=dark] .colab-df-convert:hover {\n",
              "      background-color: #434B5C;\n",
              "      box-shadow: 0px 1px 3px 1px rgba(0, 0, 0, 0.15);\n",
              "      filter: drop-shadow(0px 1px 2px rgba(0, 0, 0, 0.3));\n",
              "      fill: #FFFFFF;\n",
              "    }\n",
              "  </style>\n",
              "\n",
              "      <script>\n",
              "        const buttonEl =\n",
              "          document.querySelector('#df-23da5c9b-f69a-444a-b81e-6c9a541784c6 button.colab-df-convert');\n",
              "        buttonEl.style.display =\n",
              "          google.colab.kernel.accessAllowed ? 'block' : 'none';\n",
              "\n",
              "        async function convertToInteractive(key) {\n",
              "          const element = document.querySelector('#df-23da5c9b-f69a-444a-b81e-6c9a541784c6');\n",
              "          const dataTable =\n",
              "            await google.colab.kernel.invokeFunction('convertToInteractive',\n",
              "                                                     [key], {});\n",
              "          if (!dataTable) return;\n",
              "\n",
              "          const docLinkHtml = 'Like what you see? Visit the ' +\n",
              "            '<a target=\"_blank\" href=https://colab.research.google.com/notebooks/data_table.ipynb>data table notebook</a>'\n",
              "            + ' to learn more about interactive tables.';\n",
              "          element.innerHTML = '';\n",
              "          dataTable['output_type'] = 'display_data';\n",
              "          await google.colab.output.renderOutput(dataTable, element);\n",
              "          const docLink = document.createElement('div');\n",
              "          docLink.innerHTML = docLinkHtml;\n",
              "          element.appendChild(docLink);\n",
              "        }\n",
              "      </script>\n",
              "    </div>\n",
              "  </div>\n",
              "  "
            ]
          },
          "metadata": {},
          "execution_count": 50
        }
      ]
    },
    {
      "cell_type": "code",
      "source": [
        "#Removal of HTML Contents\n",
        "def remove_html(text):\n",
        "    soup = BeautifulSoup(text, \"html.parser\")\n",
        "    return soup.get_text()\n",
        "\n",
        "#Removal of Punctuation Marks\n",
        "def remove_punctuations(text):\n",
        "    return re.sub('\\[[^]]*\\]', '', text)\n",
        "\n",
        "# Removal of Special Characters\n",
        "def remove_characters(text):\n",
        "    return re.sub(\"[^a-zA-Z]\",\" \",text)\n",
        "\n",
        "\n",
        "#Total function\n",
        "def cleaning(text):\n",
        "    text = remove_html(text)\n",
        "    text = remove_punctuations(text)\n",
        "    text = remove_characters(text)\n",
        "    return text\n",
        "\n",
        "#Apply function on text column\n",
        "data['text']=data['text'].apply(cleaning)"
      ],
      "metadata": {
        "id": "CfU15nrQV0BL"
      },
      "execution_count": 51,
      "outputs": []
    },
    {
      "cell_type": "code",
      "source": [
        "X_train, X_test, y_train, y_test = train_test_split(data['text'], data['target'], random_state=0)"
      ],
      "metadata": {
        "id": "qSlU6PjSV-5P"
      },
      "execution_count": 52,
      "outputs": []
    },
    {
      "cell_type": "code",
      "source": [
        "max_features = 10000\n",
        "maxlen = 300"
      ],
      "metadata": {
        "id": "6g0SHQlPWCjr"
      },
      "execution_count": 53,
      "outputs": []
    },
    {
      "cell_type": "code",
      "source": [
        "tokenizer = text.Tokenizer(num_words=max_features)\n",
        "tokenizer.fit_on_texts(X_train)\n",
        "tokenized_train = tokenizer.texts_to_sequences(X_train)\n",
        "X_train = tf.keras.preprocessing.sequence.pad_sequences(tokenized_train, maxlen=maxlen)"
      ],
      "metadata": {
        "id": "OuaubkVpWFnb"
      },
      "execution_count": 54,
      "outputs": []
    },
    {
      "cell_type": "code",
      "source": [
        "tokenized_test = tokenizer.texts_to_sequences(X_test)\n",
        "X_test = tf.keras.preprocessing.sequence.pad_sequences(tokenized_test, maxlen=maxlen)"
      ],
      "metadata": {
        "id": "4CAbjT-ZWJ8b"
      },
      "execution_count": 55,
      "outputs": []
    },
    {
      "cell_type": "code",
      "source": [
        "batch_size = 256\n",
        "epochs = 10\n",
        "embed_size = 100"
      ],
      "metadata": {
        "id": "XOAgoMytWL7I"
      },
      "execution_count": 56,
      "outputs": []
    },
    {
      "cell_type": "code",
      "source": [
        "tpu = tf.distribute.cluster_resolver.TPUClusterResolver.connect()\n",
        "# instantiate a distribution strategy\n",
        "tpu_strategy = tf.distribute.experimental.TPUStrategy(tpu)\n",
        "with tpu_strategy.scope():\n",
        "  model = Sequential()\n",
        "  #Non-trainable embeddidng layer\n",
        "  model.add(Embedding(max_features, output_dim=embed_size, input_length=maxlen, trainable=False))\n",
        "  #LSTM \n",
        "  model.add(LSTM(units=128 , return_sequences = True , recurrent_dropout = 0.25 , dropout = 0.25))\n",
        "  model.add(LSTM(units=64 , recurrent_dropout = 0.1 , dropout = 0.1))\n",
        "  model.add(Dense(units = 32 , activation = 'relu'))\n",
        "  model.add(Dense(1, activation='sigmoid'))\n",
        "  model.compile(optimizer=keras.optimizers.Adam(lr = 0.01), loss='binary_crossentropy', metrics=['accuracy'])"
      ],
      "metadata": {
        "id": "Cq26780tWOOT",
        "colab": {
          "base_uri": "https://localhost:8080/"
        },
        "outputId": "7da95105-b4e2-4260-ba72-fc5431eb6145"
      },
      "execution_count": 57,
      "outputs": [
        {
          "output_type": "stream",
          "name": "stderr",
          "text": [
            "WARNING:absl:`tf.distribute.experimental.TPUStrategy` is deprecated, please use  the non experimental symbol `tf.distribute.TPUStrategy` instead.\n",
            "/usr/local/lib/python3.7/dist-packages/keras/optimizers/optimizer_v2/adam.py:110: UserWarning: The `lr` argument is deprecated, use `learning_rate` instead.\n",
            "  super(Adam, self).__init__(name, **kwargs)\n"
          ]
        }
      ]
    },
    {
      "cell_type": "code",
      "source": [
        "model.summary()"
      ],
      "metadata": {
        "id": "oEgHTd3IWScI",
        "colab": {
          "base_uri": "https://localhost:8080/"
        },
        "outputId": "c03a3d7f-c333-4c8f-ddd0-227b39be8485"
      },
      "execution_count": 58,
      "outputs": [
        {
          "output_type": "stream",
          "name": "stdout",
          "text": [
            "Model: \"sequential\"\n",
            "_________________________________________________________________\n",
            " Layer (type)                Output Shape              Param #   \n",
            "=================================================================\n",
            " embedding (Embedding)       (None, 300, 100)          1000000   \n",
            "                                                                 \n",
            " lstm (LSTM)                 (None, 300, 128)          117248    \n",
            "                                                                 \n",
            " lstm_1 (LSTM)               (None, 64)                49408     \n",
            "                                                                 \n",
            " dense (Dense)               (None, 32)                2080      \n",
            "                                                                 \n",
            " dense_1 (Dense)             (None, 1)                 33        \n",
            "                                                                 \n",
            "=================================================================\n",
            "Total params: 1,168,769\n",
            "Trainable params: 168,769\n",
            "Non-trainable params: 1,000,000\n",
            "_________________________________________________________________\n"
          ]
        }
      ]
    },
    {
      "cell_type": "code",
      "source": [
        "history = model.fit(X_train, y_train, validation_split=0.3,\n",
        "                    epochs=25, batch_size=batch_size, shuffle=True, verbose = 1)"
      ],
      "metadata": {
        "id": "P1g_ymNEWS19",
        "colab": {
          "base_uri": "https://localhost:8080/"
        },
        "outputId": "fd53f3b2-c735-48ae-8985-a91c4de1421f"
      },
      "execution_count": 59,
      "outputs": [
        {
          "output_type": "stream",
          "name": "stdout",
          "text": [
            "Epoch 1/25\n",
            "93/93 [==============================] - 21s 138ms/step - loss: 0.4639 - accuracy: 0.7684 - val_loss: 0.3281 - val_accuracy: 0.8570\n",
            "Epoch 2/25\n",
            "93/93 [==============================] - 11s 120ms/step - loss: 0.3428 - accuracy: 0.8489 - val_loss: 0.3036 - val_accuracy: 0.8692\n",
            "Epoch 3/25\n",
            "93/93 [==============================] - 11s 120ms/step - loss: 0.3040 - accuracy: 0.8669 - val_loss: 0.4246 - val_accuracy: 0.8438\n",
            "Epoch 4/25\n",
            "93/93 [==============================] - 11s 120ms/step - loss: 0.2771 - accuracy: 0.8853 - val_loss: 0.2372 - val_accuracy: 0.9055\n",
            "Epoch 5/25\n",
            "93/93 [==============================] - 11s 120ms/step - loss: 0.3075 - accuracy: 0.8725 - val_loss: 0.2503 - val_accuracy: 0.9182\n",
            "Epoch 6/25\n",
            "93/93 [==============================] - 11s 120ms/step - loss: 0.2626 - accuracy: 0.8964 - val_loss: 0.2302 - val_accuracy: 0.9140\n",
            "Epoch 7/25\n",
            "93/93 [==============================] - 11s 120ms/step - loss: 0.3563 - accuracy: 0.8478 - val_loss: 0.2230 - val_accuracy: 0.9155\n",
            "Epoch 8/25\n",
            "93/93 [==============================] - 11s 121ms/step - loss: 0.1908 - accuracy: 0.9284 - val_loss: 0.1324 - val_accuracy: 0.9541\n",
            "Epoch 9/25\n",
            "93/93 [==============================] - 11s 121ms/step - loss: 0.1409 - accuracy: 0.9499 - val_loss: 0.0941 - val_accuracy: 0.9694\n",
            "Epoch 10/25\n",
            "93/93 [==============================] - 11s 121ms/step - loss: 0.0973 - accuracy: 0.9661 - val_loss: 0.0737 - val_accuracy: 0.9754\n",
            "Epoch 11/25\n",
            "93/93 [==============================] - 11s 121ms/step - loss: 0.0811 - accuracy: 0.9710 - val_loss: 0.0621 - val_accuracy: 0.9797\n",
            "Epoch 12/25\n",
            "93/93 [==============================] - 11s 121ms/step - loss: 0.0781 - accuracy: 0.9706 - val_loss: 0.0608 - val_accuracy: 0.9800\n",
            "Epoch 13/25\n",
            "93/93 [==============================] - 11s 121ms/step - loss: 0.0725 - accuracy: 0.9747 - val_loss: 0.0859 - val_accuracy: 0.9684\n",
            "Epoch 14/25\n",
            "93/93 [==============================] - 11s 121ms/step - loss: 0.0651 - accuracy: 0.9759 - val_loss: 0.0585 - val_accuracy: 0.9794\n",
            "Epoch 15/25\n",
            "93/93 [==============================] - 11s 121ms/step - loss: 0.0665 - accuracy: 0.9759 - val_loss: 0.0555 - val_accuracy: 0.9823\n",
            "Epoch 16/25\n",
            "93/93 [==============================] - 11s 121ms/step - loss: 0.0545 - accuracy: 0.9801 - val_loss: 0.0614 - val_accuracy: 0.9780\n",
            "Epoch 17/25\n",
            "93/93 [==============================] - 11s 121ms/step - loss: 0.0559 - accuracy: 0.9793 - val_loss: 0.0581 - val_accuracy: 0.9789\n",
            "Epoch 18/25\n",
            "93/93 [==============================] - 11s 121ms/step - loss: 0.0520 - accuracy: 0.9812 - val_loss: 0.0583 - val_accuracy: 0.9790\n",
            "Epoch 19/25\n",
            "93/93 [==============================] - 11s 121ms/step - loss: 0.0482 - accuracy: 0.9822 - val_loss: 0.0517 - val_accuracy: 0.9831\n",
            "Epoch 20/25\n",
            "93/93 [==============================] - 11s 121ms/step - loss: 0.0433 - accuracy: 0.9850 - val_loss: 0.0463 - val_accuracy: 0.9851\n",
            "Epoch 21/25\n",
            "93/93 [==============================] - 11s 121ms/step - loss: 0.0392 - accuracy: 0.9862 - val_loss: 0.0566 - val_accuracy: 0.9816\n",
            "Epoch 22/25\n",
            "93/93 [==============================] - 11s 120ms/step - loss: 0.0417 - accuracy: 0.9848 - val_loss: 0.0445 - val_accuracy: 0.9851\n",
            "Epoch 23/25\n",
            "93/93 [==============================] - 11s 120ms/step - loss: 0.0323 - accuracy: 0.9882 - val_loss: 0.0551 - val_accuracy: 0.9836\n",
            "Epoch 24/25\n",
            "93/93 [==============================] - 11s 121ms/step - loss: 0.0332 - accuracy: 0.9874 - val_loss: 0.0415 - val_accuracy: 0.9867\n",
            "Epoch 25/25\n",
            "93/93 [==============================] - 11s 121ms/step - loss: 0.0295 - accuracy: 0.9885 - val_loss: 0.0442 - val_accuracy: 0.9867\n"
          ]
        }
      ]
    },
    {
      "cell_type": "code",
      "source": [
        "print(\"Accuracy of the model on Training Data is - \" , model.evaluate(X_train,y_train)[1]*100 , \"%\")\n",
        "print(\"Accuracy of the model on Testing Data is - \" , model.evaluate(X_test,y_test)[1]*100 , \"%\")"
      ],
      "metadata": {
        "id": "yQQVzZ9sWZj4",
        "colab": {
          "base_uri": "https://localhost:8080/"
        },
        "outputId": "2fd5b8ff-359f-4005-e76d-90d3687e4869"
      },
      "execution_count": 60,
      "outputs": [
        {
          "output_type": "stream",
          "name": "stdout",
          "text": [
            "1052/1052 [==============================] - 33s 30ms/step - loss: 0.0236 - accuracy: 0.9922\n",
            "Accuracy of the model on Training Data is -  99.22157526016235 %\n",
            "351/351 [==============================] - 11s 31ms/step - loss: 0.0469 - accuracy: 0.9847\n",
            "Accuracy of the model on Testing Data is -  98.46702218055725 %\n"
          ]
        }
      ]
    },
    {
      "cell_type": "code",
      "source": [
        "plt.figure()\n",
        "plt.plot(history.history[\"accuracy\"], label = \"Train\")\n",
        "plt.plot(history.history[\"val_accuracy\"], label = \"Test\")\n",
        "plt.title(\"Accuracy\")\n",
        "plt.ylabel(\"Acc\")\n",
        "plt.xlabel(\"epochs\")\n",
        "plt.legend()\n",
        "plt.show()"
      ],
      "metadata": {
        "id": "5nJ7-vbAWbI3",
        "colab": {
          "base_uri": "https://localhost:8080/",
          "height": 295
        },
        "outputId": "9134be73-ddf9-4929-9380-96d967e3df5b"
      },
      "execution_count": 61,
      "outputs": [
        {
          "output_type": "display_data",
          "data": {
            "text/plain": [
              "<Figure size 432x288 with 1 Axes>"
            ],
            "image/png": "[encoded data removed]"
          },
          "metadata": {
            "needs_background": "light"
          }
        }
      ]
    },
    {
      "cell_type": "code",
      "source": [
        "\n",
        "\n",
        "plt.figure()\n",
        "plt.plot(history.history[\"loss\"], label = \"Train\")\n",
        "plt.plot(history.history[\"val_loss\"], label = \"Test\")\n",
        "plt.title(\"Loss\")\n",
        "plt.ylabel(\"Acc\")\n",
        "plt.xlabel(\"epochs\")\n",
        "plt.legend()\n",
        "plt.show()"
      ],
      "metadata": {
        "id": "7tZInIh7Wa2o",
        "colab": {
          "base_uri": "https://localhost:8080/",
          "height": 295
        },
        "outputId": "9da4723f-ae34-4858-c2fc-a235b74c9ebd"
      },
      "execution_count": 62,
      "outputs": [
        {
          "output_type": "display_data",
          "data": {
            "text/plain": [
              "<Figure size 432x288 with 1 Axes>"
            ],
            "image/png": "[encoded data removed]"
          },
          "metadata": {
            "needs_background": "light"
          }
        }
      ]
    },
    {
      "cell_type": "code",
      "source": [],
      "metadata": {
        "id": "KCOIaPRiWaiS"
      },
      "execution_count": 62,
      "outputs": []
    },
    {
      "cell_type": "code",
      "source": [],
      "metadata": {
        "id": "FEGSPajTX-7u"
      },
      "execution_count": 62,
      "outputs": []
    }
  ],
  "metadata": {
    "colab": {
      "provenance": [],
      "collapsed_sections": [
        "ceJv6kTGCDhd",
        "Q31YBRi-C50V",
        "-KydNqjiD__a",
        "-2c5IB1-F_NX",
        "N1zLpl8-GJsx",
        "TEDek8LoGNbE"
      ],
      "authorship_tag": "ABX9TyPQZpa994QVwubpE3gE5jSg",
      "include_colab_link": true
    },
    "kernelspec": {
      "display_name": "Python 3",
      "name": "python3"
    },
    "language_info": {
      "name": "python"
    },
    "accelerator": "TPU"
  },
  "nbformat": 4,
  "nbformat_minor": 0
}